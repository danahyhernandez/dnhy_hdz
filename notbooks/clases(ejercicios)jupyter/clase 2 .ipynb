{
 "cells": [
  {
   "cell_type": "code",
   "execution_count": 1,
   "metadata": {},
   "outputs": [
    {
     "data": {
      "text/plain": [
       "10"
      ]
     },
     "execution_count": 1,
     "metadata": {},
     "output_type": "execute_result"
    }
   ],
   "source": [
    "x: int = 10   #hint\n",
    "x"
   ]
  },
  {
   "cell_type": "code",
   "execution_count": 3,
   "metadata": {},
   "outputs": [
    {
     "name": "stdout",
     "output_type": "stream",
     "text": [
      "10\n",
      "20\n"
     ]
    }
   ],
   "source": [
    "x:int = 10\n",
    "y:int = 20\n",
    "print(x)\n",
    "print(y)"
   ]
  },
  {
   "cell_type": "code",
   "execution_count": 20,
   "metadata": {},
   "outputs": [
    {
     "data": {
      "text/plain": [
       "'Hola'"
      ]
     },
     "execution_count": 20,
     "metadata": {},
     "output_type": "execute_result"
    }
   ],
   "source": [
    "z:int = (\"Hola\")\n",
    "z"
   ]
  },
  {
   "cell_type": "code",
   "execution_count": null,
   "metadata": {},
   "outputs": [],
   "source": [
    "z+5 #para que me de el resultado tengo que agregar str en lugar de int"
   ]
  },
  {
   "cell_type": "code",
   "execution_count": 7,
   "metadata": {},
   "outputs": [
    {
     "data": {
      "text/plain": [
       "7.5"
      ]
     },
     "execution_count": 7,
     "metadata": {},
     "output_type": "execute_result"
    }
   ],
   "source": [
    "precio: float = 7.5\n",
    "precio\n"
   ]
  },
  {
   "cell_type": "code",
   "execution_count": 8,
   "metadata": {},
   "outputs": [],
   "source": [
    "n = input(\"Dame un numero:\")  #el numero 5 quedo en n"
   ]
  },
  {
   "cell_type": "code",
   "execution_count": 9,
   "metadata": {},
   "outputs": [
    {
     "data": {
      "text/plain": [
       "'5'"
      ]
     },
     "execution_count": 9,
     "metadata": {},
     "output_type": "execute_result"
    }
   ],
   "source": [
    "n    #la comilla simple   todas las entradas del teclado son strings"
   ]
  },
  {
   "cell_type": "code",
   "execution_count": 10,
   "metadata": {},
   "outputs": [
    {
     "data": {
      "text/plain": [
       "'55'"
      ]
     },
     "execution_count": 10,
     "metadata": {},
     "output_type": "execute_result"
    }
   ],
   "source": [
    "n * 2  #error común por que si lo multiplicas solo lo duplica"
   ]
  },
  {
   "cell_type": "code",
   "execution_count": 11,
   "metadata": {},
   "outputs": [
    {
     "data": {
      "text/plain": [
       "'5555555555'"
      ]
     },
     "execution_count": 11,
     "metadata": {},
     "output_type": "execute_result"
    }
   ],
   "source": [
    "n * 10"
   ]
  },
  {
   "cell_type": "code",
   "execution_count": 12,
   "metadata": {},
   "outputs": [],
   "source": [
    "#casting\n",
    "n = int(input(\"Dame un numero\"))"
   ]
  },
  {
   "cell_type": "code",
   "execution_count": 13,
   "metadata": {},
   "outputs": [
    {
     "data": {
      "text/plain": [
       "10"
      ]
     },
     "execution_count": 13,
     "metadata": {},
     "output_type": "execute_result"
    }
   ],
   "source": [
    "5*2 #se equivoco"
   ]
  },
  {
   "cell_type": "code",
   "execution_count": 14,
   "metadata": {},
   "outputs": [
    {
     "data": {
      "text/plain": [
       "10"
      ]
     },
     "execution_count": 14,
     "metadata": {},
     "output_type": "execute_result"
    }
   ],
   "source": [
    "n * 2 #valor real"
   ]
  },
  {
   "cell_type": "code",
   "execution_count": 16,
   "metadata": {},
   "outputs": [
    {
     "name": "stdout",
     "output_type": "stream",
     "text": [
      "20\n"
     ]
    }
   ],
   "source": [
    "# obtener el promedio de 3 números cualquiera\n",
    "print(4+7+9) #es muy simple solo suma esos tres"
   ]
  },
  {
   "cell_type": "code",
   "execution_count": 17,
   "metadata": {},
   "outputs": [
    {
     "name": "stdout",
     "output_type": "stream",
     "text": [
      "60\n"
     ]
    }
   ],
   "source": [
    "n1:int = 10\n",
    "n2:int = 20\n",
    "n3:int = 30\n",
    "print(n1+n2+n3)"
   ]
  },
  {
   "cell_type": "code",
   "execution_count": 21,
   "metadata": {},
   "outputs": [
    {
     "name": "stdout",
     "output_type": "stream",
     "text": [
      "4 + 5 + 6 = 15\n"
     ]
    }
   ],
   "source": [
    "#forma general\n",
    "n1 = int(input(\"Dame el primer número para sumar\"))\n",
    "n2 = int(input(\"Dame el sugundo número para sumar\"))\n",
    "n3 = int(input(\"Dame el tercer número para sumar\"))\n",
    "suma:int = n1+n2+n3\n",
    "print(f\"{n1} + {n2} + {n3} = {n1+n2+n3}\") #f strings"
   ]
  },
  {
   "cell_type": "code",
   "execution_count": 23,
   "metadata": {},
   "outputs": [
    {
     "name": "stdout",
     "output_type": "stream",
     "text": [
      "El promedio de 4,5 y 6 = 5.0\n"
     ]
    }
   ],
   "source": [
    "print(f\"El promedio de {n1},{n2} y {n3} = {suma/3}\")"
   ]
  },
  {
   "cell_type": "code",
   "execution_count": 24,
   "metadata": {},
   "outputs": [
    {
     "name": "stdout",
     "output_type": "stream",
     "text": [
      "El promedio de 4,5 y 6 = 5.0\n"
     ]
    }
   ],
   "source": [
    "promedio: float = suma/3\n",
    "print(f\"El promedio de {n1},{n2} y {n3} = {promedio}\")"
   ]
  },
  {
   "cell_type": "markdown",
   "metadata": {},
   "source": [
    "#### Ejercicio: Obtener la edad de una persona dado el año de nacimiento y el año actual"
   ]
  },
  {
   "cell_type": "code",
   "execution_count": 43,
   "metadata": {},
   "outputs": [
    {
     "name": "stdout",
     "output_type": "stream",
     "text": [
      "0 y 0 = 0\n"
     ]
    }
   ],
   "source": [
    "#realizarlo\n"
   ]
  },
  {
   "cell_type": "code",
   "execution_count": 44,
   "metadata": {},
   "outputs": [
    {
     "name": "stdout",
     "output_type": "stream",
     "text": [
      "tienes 52 años\n"
     ]
    }
   ],
   "source": [
    "a_actual: int = 2023\n",
    "a_nacimiento:int = 1971\n",
    "edad:int = a_actual - a_nacimiento\n",
    "print(f\"tienes {edad} años\")"
   ]
  },
  {
   "cell_type": "code",
   "execution_count": 45,
   "metadata": {},
   "outputs": [
    {
     "name": "stdout",
     "output_type": "stream",
     "text": [
      "tienes 52 años\n"
     ]
    }
   ],
   "source": [
    "a_actual: int = int(input(\"dame el año actual\"))\n",
    "a_nacimiento:int = int(input(\"Dame tu año de nacimiento\"))\n",
    "edad:int = a_actual - a_nacimiento\n",
    "print(f\"tienes {edad} años\")"
   ]
  },
  {
   "cell_type": "markdown",
   "metadata": {},
   "source": [
    "#### Quiero obtener el promedio de eadad de 2 personas, de acuerdo con sus año de nacimiento y el año actual"
   ]
  },
  {
   "cell_type": "code",
   "execution_count": 47,
   "metadata": {},
   "outputs": [
    {
     "name": "stdout",
     "output_type": "stream",
     "text": [
      "la persona 1 tiene 19 años\n",
      "la persona 2 tiene 13 años\n"
     ]
    }
   ],
   "source": [
    "a_actual: int = int(input(\"dame el año actual\"))\n",
    "a_nacimiento1:int = int(input(\"Dame el primer año de nacimiento\"))\n",
    "a_nacimiento2:int = int(input(\"dame el sugundo año de nacimiento\"))\n",
    "\n",
    "edad_1:int = a_actual - a_nacimiento1\n",
    "edad_2:int = a_actual - a_nacimiento2\n",
    "\n",
    "print(f\"la persona 1 tiene {edad_1} años\")\n",
    "print(f\"la persona 2 tiene {edad_2} años\")"
   ]
  },
  {
   "cell_type": "code",
   "execution_count": null,
   "metadata": {},
   "outputs": [],
   "source": [
    "#programas dentro de programas   funciones"
   ]
  },
  {
   "cell_type": "code",
   "execution_count": 2,
   "metadata": {},
   "outputs": [
    {
     "name": "stdout",
     "output_type": "stream",
     "text": [
      "la persona 1 tiene 18 años\n",
      "la persona 2 tiene 17 años\n"
     ]
    }
   ],
   "source": [
    "def leer_anio(mensaje:str)->int:\n",
    "    return int (input(mensaje ))\n",
    "\n",
    "\n",
    "def calcular_edad(a_actual:int, a_nacimiento:int)->int:\n",
    "    return a_actual - a_nacimiento\n",
    "\n",
    "\n",
    "a_actual: int = leer_anio(\"dame el año actual\")\n",
    "\n",
    "a_nacimiento_1:int = calcular_edad(a_actual, leer_anio(\"Dame el primer año de nacimiento\"))\n",
    "a_nacimiento_2:int = calcular_edad(a_actual, leer_anio(\"dame el segundo año de nacimiento\"))\n",
    "\n",
    "\n",
    "print(f\"la persona 1 tiene {a_nacimiento_1} años\")\n",
    "print(f\"la persona 2 tiene {a_nacimiento_2} años\")"
   ]
  },
  {
   "cell_type": "code",
   "execution_count": null,
   "metadata": {},
   "outputs": [],
   "source": [
    "print(f\"El promedio es: {(edad_1+edad_2)/2}\")"
   ]
  }
 ],
 "metadata": {
  "kernelspec": {
   "display_name": "Python 3",
   "language": "python",
   "name": "python3"
  },
  "language_info": {
   "codemirror_mode": {
    "name": "ipython",
    "version": 3
   },
   "file_extension": ".py",
   "mimetype": "text/x-python",
   "name": "python",
   "nbconvert_exporter": "python",
   "pygments_lexer": "ipython3",
   "version": "3.11.5"
  }
 },
 "nbformat": 4,
 "nbformat_minor": 2
}
