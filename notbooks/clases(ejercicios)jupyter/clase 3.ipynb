{
 "cells": [
  {
   "cell_type": "markdown",
   "metadata": {},
   "source": [
    "#### Clase 2 de python"
   ]
  },
  {
   "cell_type": "code",
   "execution_count": null,
   "metadata": {},
   "outputs": [],
   "source": []
  },
  {
   "cell_type": "code",
   "execution_count": 1,
   "metadata": {},
   "outputs": [
    {
     "name": "stdout",
     "output_type": "stream",
     "text": [
      "1 | 2 | 3 | 4 | 5 | 6 | 7 | 8 | 9 | 10 | \n",
      "1 | 2 | 3 | 4 | 5 | 6 | 7 | 8 | 9 | \n",
      "1 | 2 | 3 | 4 | 5 | 6 | 7 | 8 | 9 | 10 | "
     ]
    }
   ],
   "source": [
    "x = range(1,10)\n",
    "\n",
    "for i in range(1,11):  #[1,10]\n",
    "    print(f\"{i}\",end=\" | \") #pie\n",
    "\n",
    "print()\n",
    "\n",
    "for i in x:\n",
    "    print(f\"{i}\",end=\" | \")\n",
    "    \n",
    "li:int = 1\n",
    "ls:int = 10\n",
    "\n",
    "print()\n",
    "for i in range(li,ls+1):\n",
    "    print(f\"{i}\",end=\" | \")\n"
   ]
  },
  {
   "cell_type": "code",
   "execution_count": 2,
   "metadata": {},
   "outputs": [
    {
     "name": "stdout",
     "output_type": "stream",
     "text": [
      "2\n",
      "4\n",
      "6\n",
      "8\n"
     ]
    }
   ],
   "source": [
    "x = range (2,10,2)\n",
    "\n",
    "for i in x:\n",
    "    print(i)"
   ]
  },
  {
   "cell_type": "code",
   "execution_count": 5,
   "metadata": {},
   "outputs": [
    {
     "data": {
      "text/plain": [
       "10"
      ]
     },
     "execution_count": 5,
     "metadata": {},
     "output_type": "execute_result"
    }
   ],
   "source": [
    "import random\n",
    "\n",
    "num = random.randint(5, 10)\n",
    "num"
   ]
  },
  {
   "cell_type": "code",
   "execution_count": 6,
   "metadata": {},
   "outputs": [
    {
     "name": "stdout",
     "output_type": "stream",
     "text": [
      "10\n",
      "7\n",
      "8\n",
      "9\n",
      "5\n",
      "10\n",
      "9\n",
      "10\n",
      "9\n",
      "10\n"
     ]
    }
   ],
   "source": [
    "for _ in range(1,11):\n",
    "    print(random.randint(5, 10)) #[5,10]"
   ]
  },
  {
   "cell_type": "markdown",
   "metadata": {},
   "source": [
    "#### Ejercicio: obtener la edad promedio de n personas preguntando su año de nacimiento y asumiendo que el año actual es 2023"
   ]
  },
  {
   "cell_type": "code",
   "execution_count": 33,
   "metadata": {},
   "outputs": [
    {
     "name": "stdout",
     "output_type": "stream",
     "text": [
      "año de nacimiento: 1994 | eadd 8: 29\n",
      "año de nacimiento: 2009 | eadd 8: 14\n",
      "año de nacimiento: 1996 | eadd 8: 27\n",
      "año de nacimiento: 2014 | eadd 8: 9\n",
      "año de nacimiento: 1997 | eadd 8: 26\n",
      "el promedio de edades es: 21.0\n"
     ]
    }
   ],
   "source": [
    "n:int = 5\n",
    "a_actual: int = 2023\n",
    "suma_edades: int = 0\n",
    "\n",
    "for _ in range(1, n+1): \n",
    "    a_nac = random.randint(1990, a_actual)\n",
    "    edad= a_actual - a_nac\n",
    "    suma_edades = suma_edades + edad\n",
    "    print(f\"año de nacimiento: {a_nac} | edad {i}: {edad}\")\n",
    "promedio_edades: float = suma_edades/n                            #float es una psta\n",
    "print(f\"el promedio de edades es: {promedio_edades}\")    "
   ]
  },
  {
   "cell_type": "markdown",
   "metadata": {},
   "source": [
    "#### Ejercicio: Se desea saber la cantidad de alumnos que pasaron una materia. Son 25 y la calificación aprobatoria es 7"
   ]
  },
  {
   "cell_type": "code",
   "execution_count": 36,
   "metadata": {},
   "outputs": [
    {
     "name": "stdout",
     "output_type": "stream",
     "text": [
      "alumnos aprobados: 16\n",
      "alumnos reprobados: 9\n"
     ]
    }
   ],
   "source": [
    "n:int = 25\n",
    "alumnos_aprobados: int = 0\n",
    "\n",
    "for _ in range(1, n+1): \n",
    "    cal = random.randint(5, 10)\n",
    "    if cal >= 7:\n",
    "        alumnos_aprobados += 1\n",
    "\n",
    "print(f\"alumnos aprobados: {alumnos_aprobados}\")\n",
    "print(f\"alumnos reprobados: {n - alumnos_aprobados}\") "
   ]
  },
  {
   "cell_type": "markdown",
   "metadata": {},
   "source": [
    "#### Ejercicio: Escriba un programa que calcule el cuadrado de un numero positivo leído desde un teclado"
   ]
  },
  {
   "cell_type": "code",
   "execution_count": 41,
   "metadata": {},
   "outputs": [
    {
     "name": "stdout",
     "output_type": "stream",
     "text": [
      "36^2 = 1296\n",
      "44^2 = 1936\n",
      "36^2 = 1296\n",
      "17^2 = 289\n",
      "72^2 = 5184\n",
      "88^2 = 7744\n",
      "42^2 = 1764\n",
      "39^2 = 1521\n",
      "57^2 = 3249\n",
      "72^2 = 5184\n",
      "49^2 = 2401\n",
      "2^2 = 4\n",
      "82^2 = 6724\n",
      "78^2 = 6084\n",
      "80^2 = 6400\n",
      "La suma de los cuadrados es: 6400\n",
      "el promedio es: {suma_cuadrados/(n-1)}\n"
     ]
    }
   ],
   "source": [
    "n = random.randint(1, 20)\n",
    "suma_cuadrados = 0\n",
    "\n",
    "for _ in range(1, n):\n",
    "    num_pos = random.randint(1, 100)\n",
    "    cuadrado = num_pos**2\n",
    "    suma_cuadrados = cuadrado\n",
    "    print(f\"{num_pos}^2 = {cuadrado}\")\n",
    "\n",
    "print(f\"La suma de los cuadrados es: {suma_cuadrados}\")\n",
    "print(f\"el promedio es: {suma_cuadrados/(n-1)}\")"
   ]
  }
 ],
 "metadata": {
  "kernelspec": {
   "display_name": "Python 3",
   "language": "python",
   "name": "python3"
  },
  "language_info": {
   "codemirror_mode": {
    "name": "ipython",
    "version": 3
   },
   "file_extension": ".py",
   "mimetype": "text/x-python",
   "name": "python",
   "nbconvert_exporter": "python",
   "pygments_lexer": "ipython3",
   "version": "3.11.5"
  }
 },
 "nbformat": 4,
 "nbformat_minor": 2
}
